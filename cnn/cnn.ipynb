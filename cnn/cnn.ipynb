{
 "cells": [
  {
   "cell_type": "code",
   "execution_count": 3,
   "metadata": {},
   "outputs": [
    {
     "data": {
      "text/plain": [
       "('3.10.2 (tags/v3.10.2:a58ebcc, Jan 17 2022, 14:12:15) [MSC v.1929 64 bit (AMD64)]',\n",
       " '2.10.0')"
      ]
     },
     "execution_count": 3,
     "metadata": {},
     "output_type": "execute_result"
    }
   ],
   "source": [
    "#バージョンの確認\n",
    "import sys\n",
    "import tensorflow as tf\n",
    "sys.version, tf.__version__"
   ]
  },
  {
   "cell_type": "code",
   "execution_count": 4,
   "metadata": {},
   "outputs": [
    {
     "name": "stdout",
     "output_type": "stream",
     "text": [
      "[name: \"/device:CPU:0\"\n",
      "device_type: \"CPU\"\n",
      "memory_limit: 268435456\n",
      "locality {\n",
      "}\n",
      "incarnation: 2961065809118976801\n",
      "xla_global_id: -1\n",
      ", name: \"/device:GPU:0\"\n",
      "device_type: \"GPU\"\n",
      "memory_limit: 10067378176\n",
      "locality {\n",
      "  bus_id: 1\n",
      "  links {\n",
      "  }\n",
      "}\n",
      "incarnation: 10091708027509326672\n",
      "physical_device_desc: \"device: 0, name: NVIDIA GeForce RTX 3060, pci bus id: 0000:01:00.0, compute capability: 8.6\"\n",
      "xla_global_id: 416903419\n",
      "]\n"
     ]
    }
   ],
   "source": [
    "#GPU使用確認\n",
    "from tensorflow.python.client import device_lib;\n",
    "print(device_lib.list_local_devices())"
   ]
  },
  {
   "cell_type": "code",
   "execution_count": 5,
   "metadata": {},
   "outputs": [],
   "source": [
    "#ライブラリのインストール\n",
    "from tensorflow.keras.models import Sequential\n",
    "from tensorflow.keras.layers import Conv2D\n",
    "from tensorflow.keras.layers import MaxPool2D\n",
    "from tensorflow.keras.optimizers import Adam\n",
    "from tensorflow.keras.layers import Dense, Activation, Dropout, Flatten\n",
    "from tensorflow.keras.utils import plot_model, to_categorical\n",
    "from tensorflow.keras.datasets import cifar10\n",
    "\n",
    "#CV2のインストール\n",
    "import cv2"
   ]
  },
  {
   "cell_type": "code",
   "execution_count": 6,
   "metadata": {},
   "outputs": [],
   "source": [
    "#学習用データセットの準備\n",
    "#CIFAR-10のクラストラベル\n",
    "(x_train, y_train), (x_test, y_test) = cifar10.load_data()"
   ]
  },
  {
   "cell_type": "code",
   "execution_count": 7,
   "metadata": {},
   "outputs": [
    {
     "name": "stdout",
     "output_type": "stream",
     "text": [
      "(50000, 32, 32, 3)\n",
      "(50000, 1)\n"
     ]
    }
   ],
   "source": [
    "#とりあえず行列の形を表示\n",
    "print(x_train.shape)\n",
    "print(y_train.shape)"
   ]
  },
  {
   "cell_type": "code",
   "execution_count": 8,
   "metadata": {},
   "outputs": [
    {
     "name": "stdout",
     "output_type": "stream",
     "text": [
      "[6]\n"
     ]
    },
    {
     "data": {
      "image/png": "[encoded data removed]",
      "text/plain": [
       "<Figure size 432x288 with 1 Axes>"
      ]
     },
     "metadata": {
      "needs_background": "light"
     },
     "output_type": "display_data"
    }
   ],
   "source": [
    "#とりあえず先頭を表示\n",
    "import matplotlib.pyplot as plt\n",
    "%matplotlib inline\n",
    "\n",
    "print(y_train[0])\n",
    "plt.imshow(x_train[0])\n",
    "plt.show()"
   ]
  },
  {
   "cell_type": "code",
   "execution_count": 9,
   "metadata": {},
   "outputs": [],
   "source": [
    "x_train_temp = x_train\n",
    "x_test_temp = x_test\n",
    "# 画像データをfloatに型変換\n",
    "x_train = x_train.astype('float32')\n",
    "x_test = x_test.astype('float32')\n",
    "\n",
    "# 画像の各画素値を 0-1 に正規化\n",
    "x_train /= 255.0\n",
    "x_test /= 255.0\n",
    "\n",
    "# 教師データをone-hotベクトル化する\n",
    "classes = 10\n",
    "y_train = to_categorical(y_train, classes)\n",
    "y_test = to_categorical(y_test, classes)\n"
   ]
  },
  {
   "cell_type": "code",
   "execution_count": 10,
   "metadata": {},
   "outputs": [
    {
     "name": "stdout",
     "output_type": "stream",
     "text": [
      "Model: \"sequential\"\n",
      "_________________________________________________________________\n",
      " Layer (type)                Output Shape              Param #   \n",
      "=================================================================\n",
      " conv2d (Conv2D)             (None, 32, 32, 64)        9472      \n",
      "                                                                 \n",
      " max_pooling2d (MaxPooling2D  (None, 16, 16, 64)       0         \n",
      " )                                                               \n",
      "                                                                 \n",
      " conv2d_1 (Conv2D)           (None, 16, 16, 128)       73856     \n",
      "                                                                 \n",
      " max_pooling2d_1 (MaxPooling  (None, 8, 8, 128)        0         \n",
      " 2D)                                                             \n",
      "                                                                 \n",
      " conv2d_2 (Conv2D)           (None, 8, 8, 256)         295168    \n",
      "                                                                 \n",
      " conv2d_3 (Conv2D)           (None, 8, 8, 256)         590080    \n",
      "                                                                 \n",
      " max_pooling2d_2 (MaxPooling  (None, 4, 4, 256)        0         \n",
      " 2D)                                                             \n",
      "                                                                 \n",
      " flatten (Flatten)           (None, 4096)              0         \n",
      "                                                                 \n",
      " dense (Dense)               (None, 128)               524416    \n",
      "                                                                 \n",
      " dropout (Dropout)           (None, 128)               0         \n",
      "                                                                 \n",
      " dense_1 (Dense)             (None, 64)                8256      \n",
      "                                                                 \n",
      " dropout_1 (Dropout)         (None, 64)                0         \n",
      "                                                                 \n",
      " dense_2 (Dense)             (None, 10)                650       \n",
      "                                                                 \n",
      "=================================================================\n",
      "Total params: 1,501,898\n",
      "Trainable params: 1,501,898\n",
      "Non-trainable params: 0\n",
      "_________________________________________________________________\n"
     ]
    }
   ],
   "source": [
    "#モデルの定義\n",
    "model = Sequential()\n",
    "model.add(Conv2D(64, 7, activation = \"relu\", padding = \"same\", input_shape=(32,32,3)))\n",
    "model.add(MaxPool2D(2))\n",
    "model.add(Conv2D(128,3, activation = \"relu\", padding = \"same\"))\n",
    "model.add(MaxPool2D(2))\n",
    "model.add(Conv2D(256,3, activation = \"relu\", padding = \"same\"))\n",
    "model.add(Conv2D(256,3, activation = \"relu\", padding = \"same\"))\n",
    "model.add(MaxPool2D(2))\n",
    "model.add(Flatten())\n",
    "model.add(Dense(128, activation = \"relu\"))\n",
    "model.add(Dropout(0.5))\n",
    "model.add(Dense(64, activation = \"relu\"))\n",
    "model.add(Dropout(0.5))\n",
    "model.add(Dense(10,activation=\"softmax\"))\n",
    "#モデルをコンパイル\n",
    "model.compile(optimizer = \"sgd\", loss = 'categorical_crossentropy', metrics = [\"accuracy\"])\n",
    "#モデルの状態を表示\n",
    "model.summary()"
   ]
  },
  {
   "cell_type": "code",
   "execution_count": 16,
   "metadata": {},
   "outputs": [
    {
     "name": "stdout",
     "output_type": "stream",
     "text": [
      "Epoch 1/10\n",
      "352/352 [==============================] - 6s 16ms/step - loss: 1.4620 - accuracy: 0.4779 - val_loss: 1.3094 - val_accuracy: 0.5336\n",
      "Epoch 2/10\n",
      "352/352 [==============================] - 6s 16ms/step - loss: 1.4347 - accuracy: 0.4866 - val_loss: 1.2784 - val_accuracy: 0.5456\n",
      "Epoch 3/10\n",
      "352/352 [==============================] - 6s 16ms/step - loss: 1.4174 - accuracy: 0.4944 - val_loss: 1.3106 - val_accuracy: 0.5386\n",
      "Epoch 4/10\n",
      "352/352 [==============================] - 6s 16ms/step - loss: 1.3932 - accuracy: 0.5051 - val_loss: 1.2428 - val_accuracy: 0.5668\n",
      "Epoch 5/10\n",
      "352/352 [==============================] - 6s 16ms/step - loss: 1.3688 - accuracy: 0.5134 - val_loss: 1.2151 - val_accuracy: 0.5678\n",
      "Epoch 6/10\n",
      "352/352 [==============================] - 6s 16ms/step - loss: 1.3538 - accuracy: 0.5216 - val_loss: 1.2657 - val_accuracy: 0.5510\n",
      "Epoch 7/10\n",
      "352/352 [==============================] - 6s 16ms/step - loss: 1.3390 - accuracy: 0.5258 - val_loss: 1.2000 - val_accuracy: 0.5760\n",
      "Epoch 8/10\n",
      "352/352 [==============================] - 6s 16ms/step - loss: 1.3075 - accuracy: 0.5362 - val_loss: 1.1679 - val_accuracy: 0.5854\n",
      "Epoch 9/10\n",
      "352/352 [==============================] - 6s 16ms/step - loss: 1.2952 - accuracy: 0.5442 - val_loss: 1.1482 - val_accuracy: 0.5912\n",
      "Epoch 10/10\n",
      "352/352 [==============================] - 6s 16ms/step - loss: 1.2784 - accuracy: 0.5512 - val_loss: 1.1795 - val_accuracy: 0.5900\n"
     ]
    }
   ],
   "source": [
    "#学習\n",
    "history = model.fit(x_train, y_train, batch_size=128, epochs=10, verbose=1, validation_split=0.1)"
   ]
  },
  {
   "cell_type": "code",
   "execution_count": 12,
   "metadata": {},
   "outputs": [
    {
     "data": {
      "image/png": "[encoded data removed]",
      "text/plain": [
       "<Figure size 576x360 with 1 Axes>"
      ]
     },
     "metadata": {
      "needs_background": "light"
     },
     "output_type": "display_data"
    }
   ],
   "source": [
    "#訓練状況を表示する\n",
    "import pandas as pd\n",
    "\n",
    "pd.DataFrame(history.history).plot(figsize=(8,5))\n",
    "plt.grid(True)\n",
    "plt.gca().set_ylim(0,3)\n",
    "plt.show()"
   ]
  },
  {
   "cell_type": "code",
   "execution_count": 13,
   "metadata": {},
   "outputs": [
    {
     "name": "stdout",
     "output_type": "stream",
     "text": [
      "[0. 0. 0. 1. 0. 0. 0. 0. 0. 0.]\n"
     ]
    },
    {
     "data": {
      "image/png": "[encoded data removed]",
      "text/plain": [
       "<Figure size 432x288 with 1 Axes>"
      ]
     },
     "metadata": {
      "needs_background": "light"
     },
     "output_type": "display_data"
    }
   ],
   "source": [
    "#とりあえずテストデータの先頭を表示\n",
    "import matplotlib.pyplot as plt\n",
    "%matplotlib inline\n",
    "\n",
    "print(y_test[0,:])\n",
    "plt.imshow(x_test_temp[0])\n",
    "plt.show()"
   ]
  },
  {
   "cell_type": "code",
   "execution_count": 14,
   "metadata": {},
   "outputs": [
    {
     "name": "stdout",
     "output_type": "stream",
     "text": [
      "(1, 32, 32, 3)\n",
      "1/1 [==============================] - 0s 147ms/step\n",
      "[[0.01852833 0.01329185 0.12205201 0.28056872 0.07955588 0.31773534\n",
      "  0.08879405 0.04937962 0.01860568 0.01148849]]\n"
     ]
    }
   ],
   "source": [
    "#モデルを使った予測\n",
    "x_test_tmp = x_test[:1]\n",
    "print(x_test_tmp.shape)\n",
    "y_pred = model.predict(x_test_tmp)\n",
    "print(y_pred)"
   ]
  }
 ],
 "metadata": {
  "kernelspec": {
   "display_name": "venv",
   "language": "python",
   "name": "python3"
  },
  "language_info": {
   "codemirror_mode": {
    "name": "ipython",
    "version": 3
   },
   "file_extension": ".py",
   "mimetype": "text/x-python",
   "name": "python",
   "nbconvert_exporter": "python",
   "pygments_lexer": "ipython3",
   "version": "3.10.2"
  },
  "orig_nbformat": 4
 },
 "nbformat": 4,
 "nbformat_minor": 2
}
