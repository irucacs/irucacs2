{
 "cells": [
  {
   "cell_type": "markdown",
   "metadata": {},
   "source": [
    "1次元配列"
   ]
  },
  {
   "cell_type": "code",
   "execution_count": 1,
   "metadata": {},
   "outputs": [
    {
     "name": "stdout",
     "output_type": "stream",
     "text": [
      "[1 2 3]\n"
     ]
    },
    {
     "data": {
      "text/plain": [
       "numpy.ndarray"
      ]
     },
     "execution_count": 1,
     "metadata": {},
     "output_type": "execute_result"
    }
   ],
   "source": [
    "import numpy as np\n",
    "a = np.array([1,2,3])\n",
    "print(a)\n",
    "type(a)"
   ]
  },
  {
   "cell_type": "markdown",
   "metadata": {},
   "source": [
    "配列の生成と部分取得"
   ]
  },
  {
   "cell_type": "code",
   "execution_count": 3,
   "metadata": {},
   "outputs": [
    {
     "name": "stdout",
     "output_type": "stream",
     "text": [
      "[[0 2]\n",
      " [3 5]] (4,)\n"
     ]
    }
   ],
   "source": [
    "import numpy as np\n",
    "a = np.array([[0,1,2],[3,4,5]])\n",
    "b = np.array([1,2,3,4])\n",
    "print(a[:,[0,2]],b.shape)"
   ]
  },
  {
   "cell_type": "markdown",
   "metadata": {},
   "source": [
    "arange関数、eye関数"
   ]
  },
  {
   "cell_type": "code",
   "execution_count": 1,
   "metadata": {},
   "outputs": [
    {
     "name": "stdout",
     "output_type": "stream",
     "text": [
      "[1 3 5 7 9]\n",
      "[[1. 0. 0. 0.]\n",
      " [0. 1. 0. 0.]\n",
      " [0. 0. 1. 0.]\n",
      " [0. 0. 0. 1.]]\n"
     ]
    }
   ],
   "source": [
    "import numpy as np\n",
    "#1から10まで2ごとに数字をいれたベクトルaを作成\n",
    "a = np.arange(1,11,2)\n",
    "#4行4列の単位行列bを作成\n",
    "b = np.eye(4)\n",
    "print(a)\n",
    "print(b)"
   ]
  },
  {
   "cell_type": "markdown",
   "metadata": {},
   "source": [
    "linespace関数を用いた均等割り"
   ]
  },
  {
   "cell_type": "code",
   "execution_count": 3,
   "metadata": {},
   "outputs": [
    {
     "name": "stdout",
     "output_type": "stream",
     "text": [
      "[2.71828183 2.71828183 2.71828183 2.71828183 2.71828183 2.71828183]\n",
      "[0.   0.25 0.5  0.75 1.   1.25]\n",
      "[2.71828183 2.71828183 2.71828183 2.71828183 2.71828183 2.71828183\n",
      " 0.         0.25       0.5        0.75       1.         1.25      ]\n"
     ]
    }
   ],
   "source": [
    "import numpy as np\n",
    "#1行6列のネイピア数の行列aを作成\n",
    "a = np.full((1,6),np.e).T.ravel()\n",
    "#0から1.25までを6糖分した行列bを作成\n",
    "b = np.linspace(0,1.25,6)\n",
    "#行列a,bを列方向に結合\n",
    "c = np.hstack([a,b])\n",
    "print(a)\n",
    "print(b)\n",
    "print(c)\n"
   ]
  },
  {
   "cell_type": "markdown",
   "metadata": {},
   "source": [
    "ブロードキャストとユニバーサルファンクション"
   ]
  },
  {
   "cell_type": "code",
   "execution_count": 2,
   "metadata": {},
   "outputs": [
    {
     "name": "stdout",
     "output_type": "stream",
     "text": [
      "[   10   100  1000 10000]\n",
      "[   100   1000  10000 100000]\n",
      "[2. 3. 4. 5.]\n",
      "10000 5.0\n"
     ]
    }
   ],
   "source": [
    "import numpy as np\n",
    "a = np.array([9,99,999,9999])\n",
    "a += 1\n",
    "print(a)\n",
    "a *= 10\n",
    "print(a)\n",
    "b =np.log10(a)\n",
    "print(b)\n",
    "print(a[2],b[3])"
   ]
  },
  {
   "cell_type": "markdown",
   "metadata": {},
   "source": [
    "ドット積"
   ]
  },
  {
   "cell_type": "code",
   "execution_count": null,
   "metadata": {},
   "outputs": [],
   "source": [
    "import numpy as np\n",
    "a = np.array([0,1])\n",
    "b = np.array([[2],[3]])\n",
    "c = np.array([[4,5],[6,7]])\n",
    "#d = a × b\n",
    "d = a @ b\n",
    "e = np.dot(c,a)\n",
    "f = c @ a\n",
    "print(d,e,f)"
   ]
  }
 ],
 "metadata": {
  "kernelspec": {
   "display_name": "Python 3.10.2 64-bit",
   "language": "python",
   "name": "python3"
  },
  "language_info": {
   "codemirror_mode": {
    "name": "ipython",
    "version": 3
   },
   "file_extension": ".py",
   "mimetype": "text/x-python",
   "name": "python",
   "nbconvert_exporter": "python",
   "pygments_lexer": "ipython3",
   "version": "3.10.2 (tags/v3.10.2:a58ebcc, Jan 17 2022, 14:12:15) [MSC v.1929 64 bit (AMD64)]"
  },
  "orig_nbformat": 4,
  "vscode": {
   "interpreter": {
    "hash": "1be749acb8b888617c40bd60977924bba0eae76a41ea427eea7ed14986f6c017"
   }
  }
 },
 "nbformat": 4,
 "nbformat_minor": 2
}
