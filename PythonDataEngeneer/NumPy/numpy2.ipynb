{
 "cells": [
  {
   "attachments": {},
   "cell_type": "markdown",
   "metadata": {},
   "source": [
    "参照、型変換"
   ]
  },
  {
   "cell_type": "code",
   "execution_count": 9,
   "metadata": {},
   "outputs": [
    {
     "name": "stdout",
     "output_type": "stream",
     "text": [
      "[[1 2 3]\n",
      " [4 5 6]]\n",
      "<class 'numpy.ndarray'>\n",
      "(2, 3)\n",
      "(3,)\n"
     ]
    }
   ],
   "source": [
    "import numpy as np\n",
    "\n",
    "a = np.array([[1,2,3],[4,5,6]])\n",
    "b = np.array([1,2,3])\n",
    "print(a)\n",
    "print(type(a))\n",
    "print(a.shape)\n",
    "print(b.shape)"
   ]
  },
  {
   "cell_type": "code",
   "execution_count": 27,
   "metadata": {},
   "outputs": [
    {
     "name": "stdout",
     "output_type": "stream",
     "text": [
      "[[0 1 2]\n",
      " [3 4 5]]\n",
      "[0 1 2 3 4 5]\n",
      "[0 1 2 3 4 5]\n",
      "int16\n",
      "float16\n"
     ]
    }
   ],
   "source": [
    "#reshape\n",
    "c1 = np.array([0,1,2,3,4,5])\n",
    "c2 = c1.reshape((2,3))\n",
    "print(c2)\n",
    "\n",
    "#コピー\n",
    "c3 = c2.ravel()\n",
    "print(c3)\n",
    "c4 = c2.flatten()\n",
    "print(c4)\n",
    "\n",
    "#型変換\n",
    "c5 = np.array([1,2],dtype = np.int16)\n",
    "print(c5.dtype)\n",
    "c6 = c5.astype(np.float16)\n",
    "print(c6.dtype)"
   ]
  },
  {
   "attachments": {},
   "cell_type": "markdown",
   "metadata": {},
   "source": [
    "値の取得"
   ]
  },
  {
   "cell_type": "code",
   "execution_count": 33,
   "metadata": {},
   "outputs": [
    {
     "name": "stdout",
     "output_type": "stream",
     "text": [
      "[[3 5]] int32\n",
      "[[10  5]] int32\n"
     ]
    }
   ],
   "source": [
    "import numpy as np\n",
    "a = np.array([[0, 1, 2], [3, 4, 5]])\n",
    "b = np.array([0, 1, 2])\n",
    "#値の取得\n",
    "print(a[-1:, [0, 2]], b.dtype)\n",
    "#データの代入\n",
    "a[1,0] = 10\n",
    "print(a[-1:, [0, 2]], b.dtype)"
   ]
  },
  {
   "attachments": {},
   "cell_type": "markdown",
   "metadata": {},
   "source": [
    "配列の生成"
   ]
  },
  {
   "cell_type": "code",
   "execution_count": 35,
   "metadata": {},
   "outputs": [
    {
     "name": "stdout",
     "output_type": "stream",
     "text": [
      "[1 3 5 7 9]\n",
      "[[1. 0. 0. 0.]\n",
      " [0. 1. 0. 0.]\n",
      " [0. 0. 1. 0.]\n",
      " [0. 0. 0. 1.]]\n",
      "7 1.0\n"
     ]
    }
   ],
   "source": [
    "import numpy as np\n",
    "#1から11の手前まで2ずつインクリメントした行列\n",
    "a = np.arange(1, 11, 2)\n",
    "#4×4の単位行列\n",
    "b = np.eye(4)\n",
    "print(a)\n",
    "print(b)\n",
    "print(a[3], b[3, 3])"
   ]
  },
  {
   "attachments": {},
   "cell_type": "markdown",
   "metadata": {},
   "source": [
    "ドット積"
   ]
  },
  {
   "cell_type": "code",
   "execution_count": 37,
   "metadata": {},
   "outputs": [
    {
     "name": "stdout",
     "output_type": "stream",
     "text": [
      "[6 7]\n",
      "[6 7]\n"
     ]
    }
   ],
   "source": [
    "a = np.array([0, 1])\n",
    "b = np.array([[4, 5], [6, 7]])\n",
    "print(a@b)\n",
    "print(np.dot(a,b))"
   ]
  }
 ],
 "metadata": {
  "kernelspec": {
   "display_name": "Python 3",
   "language": "python",
   "name": "python3"
  },
  "language_info": {
   "codemirror_mode": {
    "name": "ipython",
    "version": 3
   },
   "file_extension": ".py",
   "mimetype": "text/x-python",
   "name": "python",
   "nbconvert_exporter": "python",
   "pygments_lexer": "ipython3",
   "version": "3.10.2"
  },
  "orig_nbformat": 4,
  "vscode": {
   "interpreter": {
    "hash": "1be749acb8b888617c40bd60977924bba0eae76a41ea427eea7ed14986f6c017"
   }
  }
 },
 "nbformat": 4,
 "nbformat_minor": 2
}
