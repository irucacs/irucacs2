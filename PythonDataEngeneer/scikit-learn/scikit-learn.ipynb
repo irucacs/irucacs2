{
 "cells": [
  {
   "attachments": {},
   "cell_type": "markdown",
   "metadata": {},
   "source": [
    "データのエンコーディング"
   ]
  },
  {
   "cell_type": "code",
   "execution_count": 7,
   "metadata": {},
   "outputs": [
    {
     "name": "stdout",
     "output_type": "stream",
     "text": [
      "   A  B\n",
      "0  1  a\n",
      "1  2  b\n",
      "2  3  a\n",
      "3  4  b\n",
      "4  5  c\n",
      "[0 1 0 1 2]\n"
     ]
    },
    {
     "data": {
      "text/plain": [
       "array(['a', 'b', 'c'], dtype=object)"
      ]
     },
     "execution_count": 7,
     "metadata": {},
     "output_type": "execute_result"
    }
   ],
   "source": [
    "import pandas as pd\n",
    "#ラベルエンコーダのクラスをインポート\n",
    "from sklearn.preprocessing import LabelEncoder\n",
    "df = pd.DataFrame(\n",
    "    {\n",
    "        'A':[1,2,3,4,5],\n",
    "        'B':['a','b','a','b','c']\n",
    "    }\n",
    ")\n",
    "print(df)\n",
    "#ラベルエンコーダインスタンスの作成\n",
    "le = LabelEncoder()\n",
    "#ラベルのエンコーディング\n",
    "le.fit(df['B'])\n",
    "encortedDf = le.transform(df['B'])\n",
    "print(encortedDf)\n",
    "#元の値との対応を表示\n",
    "le.classes_\n"
   ]
  },
  {
   "cell_type": "code",
   "execution_count": 29,
   "metadata": {},
   "outputs": [
    {
     "name": "stdout",
     "output_type": "stream",
     "text": [
      "   A  B\n",
      "0  1  a\n",
      "1  2  b\n",
      "2  3  a\n",
      "3  4  b\n",
      "4  5  c\n"
     ]
    },
    {
     "data": {
      "text/plain": [
       "array([[1., 0., 0., 1.],\n",
       "       [0., 1., 0., 2.],\n",
       "       [1., 0., 0., 3.],\n",
       "       [0., 1., 0., 4.],\n",
       "       [0., 0., 1., 5.]])"
      ]
     },
     "execution_count": 29,
     "metadata": {},
     "output_type": "execute_result"
    }
   ],
   "source": [
    "#ラベルエンコーダとワンホットエンコーダのクラスをインポート\n",
    "from sklearn.preprocessing import LabelEncoder, OneHotEncoder\n",
    "from sklearn.compose import ColumnTransformer\n",
    "#DataFrameをコピー\n",
    "df_ohe = df.copy()\n",
    "print(df_ohe)\n",
    "#ラベルエンコーダのインスタンス化\n",
    "le = LabelEncoder()\n",
    "#英語のabcを123に変換\n",
    "df_ohe['B'] = le.fit_transform(df_ohe['B'])\n",
    "#one-hotエンコーダのインスタンス化\n",
    "ohe = ColumnTransformer([(\"OneHotEncoder\", OneHotEncoder(), [1])], remainder = 'passthrough')\n",
    "#one-hotエンコーディング+表示\n",
    "ohe.fit_transform(df_ohe)\n"
   ]
  },
  {
   "attachments": {},
   "cell_type": "markdown",
   "metadata": {},
   "source": [
    "特徴量の正規化"
   ]
  },
  {
   "attachments": {},
   "cell_type": "markdown",
   "metadata": {},
   "source": [
    "分散正規化"
   ]
  },
  {
   "cell_type": "code",
   "execution_count": 32,
   "metadata": {},
   "outputs": [
    {
     "data": {
      "text/plain": [
       "array([[-1.41421356, -1.22474487],\n",
       "       [-0.70710678, -0.81649658],\n",
       "       [ 0.        ,  0.        ],\n",
       "       [ 0.70710678,  0.40824829],\n",
       "       [ 1.41421356,  1.63299316]])"
      ]
     },
     "execution_count": 32,
     "metadata": {},
     "output_type": "execute_result"
    }
   ],
   "source": [
    "import pandas as pd\n",
    "from sklearn.preprocessing import StandardScaler\n",
    "#DataFrameを作成\n",
    "df = pd.DataFrame(\n",
    "    {\n",
    "        'A':[1,2,3,4,5],\n",
    "        'B':[100,200,400,500,800]\n",
    "    }\n",
    ")\n",
    "#分散正規化のインスタンスを生成\n",
    "stdsc = StandardScaler()\n",
    "#分散正規化を実行\n",
    "stdsc.fit(df)\n",
    "stdsc.transform(df)"
   ]
  },
  {
   "attachments": {},
   "cell_type": "markdown",
   "metadata": {},
   "source": [
    "最大最小正規化"
   ]
  },
  {
   "cell_type": "code",
   "execution_count": 34,
   "metadata": {},
   "outputs": [
    {
     "data": {
      "text/plain": [
       "array([[0.        , 0.        ],\n",
       "       [0.25      , 0.14285714],\n",
       "       [0.5       , 0.42857143],\n",
       "       [0.75      , 0.57142857],\n",
       "       [1.        , 1.        ]])"
      ]
     },
     "execution_count": 34,
     "metadata": {},
     "output_type": "execute_result"
    }
   ],
   "source": [
    "from sklearn.preprocessing import MinMaxScaler\n",
    "mmsc = MinMaxScaler()\n",
    "#最小最大正規化を実行\n",
    "mmsc.fit(df)\n",
    "mmsc.transform(df)"
   ]
  }
 ],
 "metadata": {
  "kernelspec": {
   "display_name": "Python 3",
   "language": "python",
   "name": "python3"
  },
  "language_info": {
   "codemirror_mode": {
    "name": "ipython",
    "version": 3
   },
   "file_extension": ".py",
   "mimetype": "text/x-python",
   "name": "python",
   "nbconvert_exporter": "python",
   "pygments_lexer": "ipython3",
   "version": "3.10.2 (tags/v3.10.2:a58ebcc, Jan 17 2022, 14:12:15) [MSC v.1929 64 bit (AMD64)]"
  },
  "orig_nbformat": 4,
  "vscode": {
   "interpreter": {
    "hash": "1be749acb8b888617c40bd60977924bba0eae76a41ea427eea7ed14986f6c017"
   }
  }
 },
 "nbformat": 4,
 "nbformat_minor": 2
}
