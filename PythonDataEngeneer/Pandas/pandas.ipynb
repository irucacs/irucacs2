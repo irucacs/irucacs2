{
 "cells": [
  {
   "cell_type": "markdown",
   "metadata": {},
   "source": [
    "DataFrame生成とlocメソッド"
   ]
  },
  {
   "cell_type": "code",
   "execution_count": 2,
   "metadata": {},
   "outputs": [
    {
     "name": "stdout",
     "output_type": "stream",
     "text": [
      "   A  B      C\n",
      "1  a  3   True\n",
      "2  b  4  False\n",
      "3  c  6  False\n",
      "6\n",
      "6\n"
     ]
    }
   ],
   "source": [
    "import pandas as pd\n",
    "df = pd.DataFrame([[\"a\",3,True],[\"b\",4,False],[\"c\",6,False]])\n",
    "df.index = [\"1\",\"2\",\"3\"]\n",
    "df.columns = [\"A\",\"B\",\"C\"]\n",
    "\n",
    "a = df.loc[\"3\",\"B\"]\n",
    "b = df.iloc[2,1]\n",
    "\n",
    "print(df)\n",
    "print(a)\n",
    "print(b)"
   ]
  },
  {
   "cell_type": "markdown",
   "metadata": {},
   "source": [
    "指定条件によるデータ抽出"
   ]
  },
  {
   "cell_type": "code",
   "execution_count": 7,
   "metadata": {},
   "outputs": [
    {
     "name": "stdout",
     "output_type": "stream",
     "text": [
      "    A       B   C\n",
      "1  10  middle  20\n",
      "2  25     low  50\n",
      "3  40     low  80\n",
      "\n",
      "1    False\n",
      "2     True\n",
      "3     True\n",
      "Name: C, dtype: bool\n",
      "\n",
      "    A    B   C\n",
      "2  25  low  50\n",
      "3  40  low  80\n",
      "\n",
      "40 low\n"
     ]
    }
   ],
   "source": [
    "import pandas as pd\n",
    "df = pd.DataFrame([[10,\"a\",True],[25,\"b\",False],[40,\"c\",False]])\n",
    "df.index = [\"1\",\"2\",\"3\"]\n",
    "df.columns = [\"A\",\"B\",\"C\"]\n",
    "\n",
    "#判定用の関数\n",
    "def judge(arg):\n",
    "        if arg >30:\n",
    "            return \"low\"\n",
    "        if arg < 60:\n",
    "            return \"middle\"\n",
    "        else:\n",
    "            return \"high\"\n",
    "\n",
    "df.loc[:,\"C\"] = df.iloc[:,0] * 2\n",
    "#B列をC列の判定結果にする\n",
    "df.loc[:,\"B\"] = df.iloc[:,2].apply(judge)\n",
    "print(df)\n",
    "print()\n",
    "#列Cが40以上か判定してBoolを返す\n",
    "_=df[\"C\"]>40\n",
    "#返されたBoolに従い行ごとに判定する\n",
    "df = df[_]\n",
    "print(_)\n",
    "print()\n",
    "print(df)\n",
    "print()\n",
    "print(df.iloc[1,0],df.iloc[0,1])\n"
   ]
  },
  {
   "cell_type": "markdown",
   "metadata": {},
   "source": [
    "date_rage関数を使用した時系列データの処理、乱数の生成"
   ]
  },
  {
   "cell_type": "code",
   "execution_count": 2,
   "metadata": {},
   "outputs": [
    {
     "name": "stdout",
     "output_type": "stream",
     "text": [
      "            rand\n",
      "2022-01-01    14\n",
      "2022-01-08    91\n",
      "2022-01-15   114\n",
      "2022-01-22    89\n",
      "2022-01-29    91\n",
      "2022-02-05    84\n",
      "2022-02-12   110\n",
      "2022-02-19   133\n",
      "2022-02-26    70\n",
      "2022-03-05    83\n",
      "2022-03-12   124\n",
      "2022-03-19   119\n",
      "2022-03-26    94\n",
      "2022-04-02   116\n",
      "2022-04-09   116\n",
      "2022-04-16   135\n",
      "2022-04-23   109\n",
      "2022-04-30    61\n",
      "2022-05-07   108\n",
      "2022-05-14   122\n",
      "2022-05-21    87\n",
      "2022-05-28    99\n",
      "2022-06-04   126\n",
      "2022-06-11    70\n",
      "2022-06-18   106\n",
      "2022-06-25    94\n",
      "2022-07-02   110\n",
      "2022-07-09   149\n",
      "2022-07-16    63\n",
      "2022-07-23   126\n",
      "2022-07-30   107\n",
      "2022-08-06    98\n",
      "2022-08-13    97\n",
      "2022-08-20   100\n",
      "2022-08-27   122\n",
      "2022-09-03   120\n",
      "2022-09-10   174\n",
      "2022-09-17   114\n",
      "2022-09-24   146\n",
      "2022-10-01    95\n",
      "2022-10-08    97\n",
      "2022-10-15    73\n",
      "2022-10-22   127\n",
      "2022-10-29   121\n",
      "2022-11-05    86\n",
      "2022-11-12    50\n",
      "2022-11-19    76\n",
      "2022-11-26   132\n",
      "2022-12-03   105\n",
      "2022-12-10   139\n",
      "2022-12-17   149\n",
      "2022-12-24   114\n",
      "2022-12-31   101\n"
     ]
    }
   ],
   "source": [
    "import numpy as np\n",
    "import pandas as pd\n",
    "np.random.seed(123)\n",
    "dates = pd.date_range(start=\"2022-01-01\",periods=365)\n",
    "df = pd.DataFrame(np.random.randint(1,31,365), index=dates, columns=[\"rand\"])\n",
    "df_year = pd.DataFrame(df.groupby(pd.Grouper(freq = 'W-SAT')).sum(), columns = [\"rand\"])\n",
    "print(df_year)\n"
   ]
  }
 ],
 "metadata": {
  "kernelspec": {
   "display_name": "Python 3.10.2 64-bit",
   "language": "python",
   "name": "python3"
  },
  "language_info": {
   "codemirror_mode": {
    "name": "ipython",
    "version": 3
   },
   "file_extension": ".py",
   "mimetype": "text/x-python",
   "name": "python",
   "nbconvert_exporter": "python",
   "pygments_lexer": "ipython3",
   "version": "3.10.2 (tags/v3.10.2:a58ebcc, Jan 17 2022, 14:12:15) [MSC v.1929 64 bit (AMD64)]"
  },
  "orig_nbformat": 4,
  "vscode": {
   "interpreter": {
    "hash": "1be749acb8b888617c40bd60977924bba0eae76a41ea427eea7ed14986f6c017"
   }
  }
 },
 "nbformat": 4,
 "nbformat_minor": 2
}
