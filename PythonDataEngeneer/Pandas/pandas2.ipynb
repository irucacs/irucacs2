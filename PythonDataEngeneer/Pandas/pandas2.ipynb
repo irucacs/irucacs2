{
 "cells": [
  {
   "cell_type": "code",
   "execution_count": null,
   "metadata": {},
   "outputs": [],
   "source": [
    "抽出(locとiloc)"
   ]
  },
  {
   "cell_type": "code",
   "execution_count": 1,
   "metadata": {},
   "outputs": [
    {
     "name": "stdout",
     "output_type": "stream",
     "text": [
      "10 2\n"
     ]
    }
   ],
   "source": [
    "import pandas as pd\n",
    "df = pd.DataFrame([[5, \"a\", True],[2, \"b\", False],[10, \"c\", False]])\n",
    "df.index = [\"1\", \"2\", \"3\"]\n",
    "df.columns = [\"A\", \"B\", \"C\"]\n",
    "a = df.loc[\"3\", \"A\"]\n",
    "b = df.iloc[1, 0]\n",
    "print(a,b)"
   ]
  },
  {
   "attachments": {},
   "cell_type": "markdown",
   "metadata": {},
   "source": [
    "データ抽出"
   ]
  },
  {
   "cell_type": "code",
   "execution_count": 6,
   "metadata": {},
   "outputs": [
    {
     "name": "stdout",
     "output_type": "stream",
     "text": [
      "    A  B      C\n",
      "1  10  a   True\n",
      "2  25  b  False\n",
      "3  40  c  False\n",
      "    A       B   C\n",
      "1  10     low  20\n",
      "2  25  middle  50\n",
      "3  40    high  80\n"
     ]
    }
   ],
   "source": [
    "import pandas as pd\n",
    "df = pd.DataFrame([[10, \"a\", True],[25, \"b\", False],[40, \"c\", False]])\n",
    "df.index = [\"1\", \"2\", \"3\"]\n",
    "df.columns = [\"A\", \"B\", \"C\"]\n",
    "print(df)\n",
    "\n",
    "def judge(arg):\n",
    "   if arg < 30:\n",
    "     return \"low\"\n",
    "   elif arg < 60:\n",
    "     return \"middle\"\n",
    "   else:\n",
    "     return \"high\"\n",
    "\n",
    "df.loc[:, \"C\"] = df.iloc[:, 0] * 2\n",
    "df.loc[:, \"B\"] = df.iloc[:, 2].apply(judge)\n",
    "\n",
    "print(df)"
   ]
  },
  {
   "attachments": {},
   "cell_type": "markdown",
   "metadata": {},
   "source": [
    "時系列データ"
   ]
  },
  {
   "cell_type": "code",
   "execution_count": 17,
   "metadata": {},
   "outputs": [
    {
     "name": "stdout",
     "output_type": "stream",
     "text": [
      "DatetimeIndex(['2021-01-01', '2021-01-02', '2021-01-03', '2021-01-04',\n",
      "               '2021-01-05', '2021-01-06', '2021-01-07', '2021-01-08',\n",
      "               '2021-01-09', '2021-01-10', '2021-01-11', '2021-01-12',\n",
      "               '2021-01-13', '2021-01-14', '2021-01-15', '2021-01-16',\n",
      "               '2021-01-17', '2021-01-18', '2021-01-19', '2021-01-20',\n",
      "               '2021-01-21', '2021-01-22', '2021-01-23', '2021-01-24',\n",
      "               '2021-01-25', '2021-01-26', '2021-01-27', '2021-01-28',\n",
      "               '2021-01-29', '2021-01-30', '2021-01-31'],\n",
      "              dtype='datetime64[ns]', freq='D')\n",
      "            number\n",
      "2021-01-07      94\n",
      "2021-01-14     109\n",
      "2021-01-21      85\n",
      "2021-01-28      93\n",
      "2021-02-04      46\n"
     ]
    }
   ],
   "source": [
    "import numpy as np\n",
    "import pandas as pd\n",
    "np.random.seed(123)\n",
    "dates = pd.date_range(start=\"2021-01-01\", end=\"2021-01-31\")\n",
    "print(dates)\n",
    "\n",
    "df = pd.DataFrame(np.random.randint(1, 31, 31), index=dates, columns=[\"number\"])\n",
    "#print(df)\n",
    "#dfを火曜日で集計\n",
    "df_year = pd.DataFrame(df.groupby(pd.Grouper(freq='W-THU')).sum(), columns=[\"number\"])\n",
    "print(df_year)"
   ]
  }
 ],
 "metadata": {
  "kernelspec": {
   "display_name": "Python 3",
   "language": "python",
   "name": "python3"
  },
  "language_info": {
   "codemirror_mode": {
    "name": "ipython",
    "version": 3
   },
   "file_extension": ".py",
   "mimetype": "text/x-python",
   "name": "python",
   "nbconvert_exporter": "python",
   "pygments_lexer": "ipython3",
   "version": "3.10.2"
  },
  "orig_nbformat": 4,
  "vscode": {
   "interpreter": {
    "hash": "1be749acb8b888617c40bd60977924bba0eae76a41ea427eea7ed14986f6c017"
   }
  }
 },
 "nbformat": 4,
 "nbformat_minor": 2
}
